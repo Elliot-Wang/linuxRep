{
 "cells": [
  {
   "cell_type": "markdown",
   "metadata": {},
   "source": [
    "# 基础网络爬虫\n",
    "使用工具：requests, bs4, re  \n",
    "进阶工具：Scrapy"
   ]
  },
  {
   "cell_type": "markdown",
   "metadata": {},
   "source": [
    "## 使用Requests库\n",
    "1. Terminal Mode Learning\n",
    "2. Packed Function"
   ]
  },
  {
   "cell_type": "markdown",
   "metadata": {},
   "source": [
    "### 简单访问网站"
   ]
  },
  {
   "cell_type": "code",
   "execution_count": 1,
   "metadata": {},
   "outputs": [],
   "source": [
    "# Terminal\n",
    "import requests\n",
    "r = requests.get('https://www.baidu.com')"
   ]
  },
  {
   "cell_type": "code",
   "execution_count": 4,
   "metadata": {},
   "outputs": [
    {
     "name": "stdout",
     "output_type": "stream",
     "text": [
      "200\n",
      "iv> </div> </div> <div id=ftCon> <div id=ftConw> <p id=lh> <a href=http://home.baidu.com>关于百度</a> <a href=http://ir.baidu.com>About Baidu</a> </p> <p id=cp>&copy;2017&nbsp;Baidu&nbsp;<a href=http://www.baidu.com/duty/>使用百度前必读</a>&nbsp; <a href=http://jianyi.baidu.com/ class=cp-feedback>意见反馈</a>&nbsp;京ICP证030173号&nbsp; <img src=//www.baidu.com/img/gs.gif> </p> </div> </div> </div> </body> </html>\n",
      "\n"
     ]
    }
   ],
   "source": [
    "# test request sequence\n",
    "print(r.status_code)\n",
    "# by setting the  variable ENCODING, will affect the out-print of variable TEXT\n",
    "# variable APPARENT_ENCODING is the guess of web's encoding mode\n",
    "r.encoding = r.apparent_encoding\n",
    "print(r.text[-400:])"
   ]
  },
  {
   "cell_type": "code",
   "execution_count": 5,
   "metadata": {},
   "outputs": [
    {
     "name": "stdout",
     "output_type": "stream",
     "text": [
      "iv> </div> </div> <div id=ftCon> <div id=ftConw> <p id=lh> <a href=http://home.baidu.com>关于百度</a> <a href=http://ir.baidu.com>About Baidu</a> </p> <p id=cp>&copy;2017&nbsp;Baidu&nbsp;<a href=http://www.baidu.com/duty/>使用百度前必读</a>&nbsp; <a href=http://jianyi.baidu.com/ class=cp-feedback>意见反馈</a>&nbsp;京ICP证030173号&nbsp; <img src=//www.baidu.com/img/gs.gif> </p> </div> </div> </div> </body> </html>\n",
      "\n"
     ]
    }
   ],
   "source": [
    "# Packed Function\n",
    "import requests\n",
    "\n",
    "url = 'https://www.baidu.com'\n",
    "try:\n",
    "    r = requests.get(url)\n",
    "    r.raise_for_status()\n",
    "    r.encoding = r.apparent_encoding\n",
    "    print( r.text[-400:] )\n",
    "except:\n",
    "    pass"
   ]
  },
  {
   "cell_type": "markdown",
   "metadata": {},
   "source": [
    "### 添加访问信息\n",
    "* 访问头部信息\n",
    "* 搜索关键词\n",
    "* 访问文件和存储\n",
    "* ip地址查询"
   ]
  },
  {
   "cell_type": "code",
   "execution_count": null,
   "metadata": {},
   "outputs": [],
   "source": [
    "# 访问头部信息\n",
    "\n",
    "# failed example\n",
    "import requests\n",
    "url = 'https://www.amazon.cn/gp/product/B01M8L5Z3Y'\n",
    "r = requests.get(url)\n",
    "print(r.status_code)\n",
    "print(r.encoding)\n",
    "if(r.encoding != r.apparent_encoding):\n",
    "    print(r.apparent_encoding)\n",
    "r.encoding = r.apparent_encoding\n",
    "print(r.text[:1000])\n",
    "print(r.request.headers)\n",
    "\n",
    "print('--'*10)\n",
    "\n",
    "# improved example\n",
    "kv = {'user-agent' : 'Mozilla/5.0'}\n",
    "r = requests.get(url, headers = kv)\n",
    "print(r.status_code)\n",
    "print(r.request.headers)\n",
    "print(r.text[:1000])"
   ]
  },
  {
   "cell_type": "code",
   "execution_count": 7,
   "metadata": {},
   "outputs": [
    {
     "data": {
      "text/plain": [
       "200"
      ]
     },
     "execution_count": 7,
     "metadata": {},
     "output_type": "execute_result"
    }
   ],
   "source": [
    "# 搜索关键词\n",
    "kv = {'wd' : 'Python'}\n",
    "url = 'http://www.baidu.com/s'\n",
    "r = requests.get(url, params=kv)\n",
    "r.status_code"
   ]
  },
  {
   "cell_type": "code",
   "execution_count": 8,
   "metadata": {},
   "outputs": [
    {
     "data": {
      "text/plain": [
       "'http://www.baidu.com/s?wd=Python'"
      ]
     },
     "execution_count": 8,
     "metadata": {},
     "output_type": "execute_result"
    }
   ],
   "source": [
    "r.request.url"
   ]
  },
  {
   "cell_type": "code",
   "execution_count": 9,
   "metadata": {},
   "outputs": [
    {
     "data": {
      "text/plain": [
       "431612"
      ]
     },
     "execution_count": 9,
     "metadata": {},
     "output_type": "execute_result"
    }
   ],
   "source": [
    "len(r.text)"
   ]
  },
  {
   "cell_type": "code",
   "execution_count": 13,
   "metadata": {},
   "outputs": [],
   "source": [
    "# 网络图片爬取\n",
    "path = 'download.jpg'\n",
    "url = 'https://pic4.zhimg.com/80/6980e8ba6a2c02944d4cb6f3cc5fba21_hd.jpg'\n",
    "r = requests.get(url)\n",
    "try:\n",
    "    with open(path, 'wb') as f:\n",
    "        f.write(r.content)\n",
    "except:\n",
    "    print('craw fail')"
   ]
  },
  {
   "cell_type": "markdown",
   "metadata": {},
   "source": [
    "**只是不知道如何使用python显示图片数据，就直接显示在下方**"
   ]
  },
  {
   "cell_type": "code",
   "execution_count": null,
   "metadata": {},
   "outputs": [],
   "source": []
  }
 ],
 "metadata": {
  "kernelspec": {
   "display_name": "Python 3",
   "language": "python",
   "name": "python3"
  },
  "language_info": {
   "codemirror_mode": {
    "name": "ipython",
    "version": 3
   },
   "file_extension": ".py",
   "mimetype": "text/x-python",
   "name": "python",
   "nbconvert_exporter": "python",
   "pygments_lexer": "ipython3",
   "version": "3.7.2"
  }
 },
 "nbformat": 4,
 "nbformat_minor": 2
}
