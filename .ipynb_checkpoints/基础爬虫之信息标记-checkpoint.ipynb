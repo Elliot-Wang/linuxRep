{
 "cells": [
  {
   "cell_type": "markdown",
   "metadata": {},
   "source": [
    "# 基础网络爬虫\n",
    "使用工具：requests, bs4, re  \n",
    "进阶工具：Scrapy"
   ]
  },
  {
   "cell_type": "markdown",
   "metadata": {},
   "source": [
    "## 信息标记工具\n",
    "* xml\n",
    "* json\n",
    "* yaml"
   ]
  },
  {
   "cell_type": "markdown",
   "metadata": {},
   "source": [
    "### xml\n",
    "'''\n",
    "<person>\n",
    "<firstName>Tian</firstName>\n",
    "<lastName>Song</lastName>\n",
    "<address>\n",
    "<streetAddr>中关村南大街5号</streetAddr>\n",
    "<city>北京市</city>\n",
    "<zipcode>100081</zipcode>\n",
    "</address>\n",
    "<prof>Computer System</prof><prof>Security</prof>\n",
    "</person>\n",
    "'''"
   ]
  },
  {
   "cell_type": "markdown",
   "metadata": {},
   "source": [
    "### json\n",
    "'''\n",
    "{\n",
    "“firstName” : “Tian” ,\n",
    "“lastName” : “Song” ,\n",
    "“address” : {\n",
    "                        “streetAddr” : “中关村南大街5号” ,\n",
    "                        “city” : “北京市” ,\n",
    "                        “zipcode” : “100081”\n",
    "                             } ,\n",
    "    “prof” : [ \"Computer System” , “Security”]\n",
    "}\n",
    "'''"
   ]
  },
  {
   "cell_type": "markdown",
   "metadata": {},
   "source": [
    "### yaml\n",
    "'''\n",
    "firstName : Tian\n",
    "lastName : Song\n",
    "address :\n",
    "    streetAddr : 中关村南大街5号\n",
    "    city : 北京市\n",
    "    zipcode : 100081\n",
    "prof :\n",
    "‐Computer System\n",
    "‐Securi\n",
    "'''"
   ]
  },
  {
   "cell_type": "code",
   "execution_count": null,
   "metadata": {},
   "outputs": [],
   "source": []
  }
 ],
 "metadata": {
  "kernelspec": {
   "display_name": "Python 3",
   "language": "python",
   "name": "python3"
  },
  "language_info": {
   "codemirror_mode": {
    "name": "ipython",
    "version": 3
   },
   "file_extension": ".py",
   "mimetype": "text/x-python",
   "name": "python",
   "nbconvert_exporter": "python",
   "pygments_lexer": "ipython3",
   "version": "3.7.2"
  }
 },
 "nbformat": 4,
 "nbformat_minor": 2
}
