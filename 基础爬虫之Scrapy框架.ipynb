{
 "cells": [
  {
   "cell_type": "markdown",
   "metadata": {},
   "source": [
    "# 基础网络爬虫\n",
    "使用工具：requests, bs4, re  \n",
    "进阶工具：Scrapy"
   ]
  },
  {
   "cell_type": "markdown",
   "metadata": {},
   "source": [
    "## 使用Scrapy\n",
    "在命令行模式下操作  \n",
    "\n",
    "1- 建立一个项目\n",
    "> scrapy startproject [projectName]\n",
    "\n",
    "之后就会自动生成工程目录"
   ]
  },
  {
   "cell_type": "markdown",
   "metadata": {},
   "source": [
    "2- 在工程目录中生成一个爬虫文件\n",
    "> scrapy genspider demo python.io\n",
    "\n",
    "用户文件放在scrapyDemo/spiders/中"
   ]
  },
  {
   "cell_type": "markdown",
   "metadata": {},
   "source": [
    "3- 修改创建的爬虫文件"
   ]
  },
  {
   "cell_type": "markdown",
   "metadata": {},
   "source": [
    "4- 运行爬虫\n",
    "> scrapy crawl demo\n",
    "\n",
    "demo爬虫被执行"
   ]
  },
  {
   "cell_type": "code",
   "execution_count": null,
   "metadata": {},
   "outputs": [],
   "source": []
  }
 ],
 "metadata": {
  "kernelspec": {
   "display_name": "Python 3",
   "language": "python",
   "name": "python3"
  },
  "language_info": {
   "codemirror_mode": {
    "name": "ipython",
    "version": 3
   },
   "file_extension": ".py",
   "mimetype": "text/x-python",
   "name": "python",
   "nbconvert_exporter": "python",
   "pygments_lexer": "ipython3",
   "version": "3.7.2"
  }
 },
 "nbformat": 4,
 "nbformat_minor": 2
}
